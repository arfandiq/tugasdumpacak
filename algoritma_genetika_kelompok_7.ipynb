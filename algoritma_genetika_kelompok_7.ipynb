{
  "nbformat": 4,
  "nbformat_minor": 0,
  "metadata": {
    "colab": {
      "provenance": [],
      "authorship_tag": "ABX9TyOjQvS7qFAKviD59R0pliPq",
      "include_colab_link": true
    },
    "kernelspec": {
      "name": "python3",
      "display_name": "Python 3"
    },
    "language_info": {
      "name": "python"
    }
  },
  "cells": [
    {
      "cell_type": "markdown",
      "metadata": {
        "id": "view-in-github",
        "colab_type": "text"
      },
      "source": [
        "<a href=\"https://colab.research.google.com/github/arfandiq/tugasdumpacak/blob/main/algoritma_genetika_kelompok_7.ipynb\" target=\"_parent\"><img src=\"https://colab.research.google.com/assets/colab-badge.svg\" alt=\"Open In Colab\"/></a>"
      ]
    },
    {
      "cell_type": "markdown",
      "source": [
        "# **TUGAS ALGORITMA GENETIKA KELOMPOK 7** **MATA KULIAH KECERDASAN BUATAN**"
      ],
      "metadata": {
        "id": "2uDyQFwayHPd"
      }
    },
    {
      "cell_type": "markdown",
      "source": [
        "**Anggota Kelompok :**\n",
        "\n",
        "\n",
        "1. Arfandi Qurrata’ain (163221039)\n",
        "2. Argananda Putra Tyaskresna Dwisetya (163221085)\n",
        "3. Ghalih Ahmad Salamun (163221034)\n",
        "4. Daniel Pardamean Hamonangan Sinabutar (163221043)"
      ],
      "metadata": {
        "id": "NgXqSlB2Q8o7"
      }
    },
    {
      "cell_type": "markdown",
      "source": [
        "**Full Code**"
      ],
      "metadata": {
        "id": "VVZYRZHICHwc"
      }
    },
    {
      "cell_type": "code",
      "source": [
        "import random\n",
        "import pandas\n",
        "\n",
        "UKURAN_POPULASI = 600\n",
        "GEN = '''abcdefghijklmnopqrstuvwxyzABCDEFGHIJKLMNOPQRSTUVWXYZ 1234567890'''\n",
        "# target yang diinginkan\n",
        "TARGET = \"Tidak ada yang punya NIM 163221100\"\n",
        "\n",
        "# menginisiasi gen\n",
        "generasi = 1\n",
        "ditemukan = False\n",
        "populasi = []\n",
        "data_generasi = []\n",
        "\n",
        "# Membuat gen pertama secara acak\n",
        "def buat_gen(length):\n",
        "    gen = []\n",
        "    for _ in range(length):\n",
        "        gen.append(random.choice(GEN))\n",
        "    return gen\n",
        "\n",
        "\n",
        "# Menghitung tingkat kesesuaian kromosom dengan target\n",
        "def hitung_kesalahan(chromosome):\n",
        "    kesalahan = 0\n",
        "    fitness = 30\n",
        "    for gs, gt in zip(chromosome, TARGET):\n",
        "        if gs != gt:\n",
        "            kesalahan += 1\n",
        "            fitness -= 1\n",
        "    return kesalahan, fitness\n",
        "\n",
        "# Menghasilkan anak dari dua orang tua\n",
        "def Seleksi(ortu1, ortu2):\n",
        "    anak_kromosom = []\n",
        "    for gen_ortu1, gen_ortu2 in zip(ortu1, ortu2):\n",
        "        probabilitas = random.random()\n",
        "        if probabilitas < 0.45:\n",
        "            anak_kromosom.append(gen_ortu1)\n",
        "        elif probabilitas < 0.90:\n",
        "            anak_kromosom.append(gen_ortu2)\n",
        "        else:\n",
        "            anak_kromosom.append(random.choice(GEN))\n",
        "    return anak_kromosom\n",
        "\n",
        "\n",
        "# Mengacak ulang string GEN\n",
        "GEN = ''.join(random.sample(GEN, len(GEN)))\n",
        "\n",
        "for _ in range(UKURAN_POPULASI):\n",
        "  populasi.append(buat_gen(len(TARGET)))\n",
        "\n",
        "while not ditemukan:\n",
        "    populasi = sorted(populasi, key=lambda x: hitung_kesalahan(x)[0])\n",
        "    if hitung_kesalahan(populasi[0])[0] <= 0:\n",
        "        ditemukan = True\n",
        "        break\n",
        "\n",
        "\n",
        "    generasi_terpilih = populasi[:int(0.1 * UKURAN_POPULASI)]\n",
        "    for _ in range(int(0.9 * UKURAN_POPULASI)):\n",
        "        induk1 = random.choice(populasi[:300])\n",
        "        induk2 = random.choice(populasi[:300])\n",
        "        anak = Seleksi(induk1, induk2)\n",
        "        generasi_terpilih.append(anak)\n",
        "\n",
        "    populasi = generasi_terpilih\n",
        "    kesalahan_terkecil, fitness_terbaik = hitung_kesalahan(populasi[0])\n",
        "    individu_terbaik = ''.join(populasi[0])\n",
        "    print(f\"Generasi: {generasi}\\thasil: {individu_terbaik}\\tkesalahan: {kesalahan_terkecil}\\tFitness: {fitness_terbaik}\")\n",
        "    generasi += 1\n",
        "    data_generasi.append({\n",
        "        \"input \": GEN,\n",
        "        \"Generasi\": generasi,\n",
        "        \"Hasil\": individu_terbaik,\n",
        "        \"Kesalahan\": kesalahan_terkecil,\n",
        "        \"Fitness\": fitness_terbaik\n",
        "    })\n",
        "\n",
        "kesalahan_terkecil, fitness_terbaik = hitung_kesalahan(populasi[0])\n",
        "individu_terbaik = ''.join(populasi[0])\n",
        "print(f\"Generasi: {generasi}\\thasil: {individu_terbaik}\\tkesalahan: {kesalahan_terkecil}\\tFitness: {fitness_terbaik}\")\n",
        "data_generasi.append({\n",
        "  \"Generasi\": generasi,\n",
        "  \"Hasil\": individu_terbaik,\n",
        "  \"Kesalahan\": kesalahan_terkecil,\n",
        "  \"Fitness\": fitness_terbaik\n",
        "  })\n",
        "\n",
        "\n",
        "# Membuat data untuk diconvert ke csv #\n",
        "df = pandas.DataFrame(data_generasi)\n",
        "df.to_csv('datahasil_optimasi.csv', index=False)"
      ],
      "metadata": {
        "id": "-ItbbCe1D97R"
      },
      "execution_count": null,
      "outputs": []
    },
    {
      "cell_type": "markdown",
      "source": [
        "PENJELASAN\n",
        "\n",
        "---\n",
        "\n"
      ],
      "metadata": {
        "id": "3oFWupw1EQPa"
      }
    },
    {
      "cell_type": "markdown",
      "source": [
        "1. Import Library\n",
        "> Dalam program ini kamu menggunakan dua library. Library *random* berguna untuk menambil nilai acak dari suatu variabel. Sedangkan Library *pandas* berguna untuk menyimpan data dalam bentuk CSV.\n",
        "\n",
        "\n",
        "\n",
        "\n"
      ],
      "metadata": {
        "id": "UOkVQOOXEm1H"
      }
    },
    {
      "cell_type": "markdown",
      "source": [
        "2. Mendefinisikan GEN, TARGET, dan Ukuran POPULASI\n",
        "> Dalam program ini, kami ingin mengoptimalkan output yang random menjadi \"Tidak ada yang punya NIM 163221100\".\n",
        "\n"
      ],
      "metadata": {
        "id": "22spjA1DFN1l"
      }
    },
    {
      "cell_type": "code",
      "source": [
        "UKURAN_POPULASI = 600\n",
        "GEN = '''abcdefghijklmnopqrstuvwxyzABCDEFGHIJKLMNOPQRSTUVWXYZ 1234567890'''\n",
        "# target yang diinginkan\n",
        "TARGET = \"Tidak ada yang punya NIM 163221100\""
      ],
      "metadata": {
        "id": "FESBj9HWF2RK"
      },
      "execution_count": null,
      "outputs": []
    },
    {
      "cell_type": "markdown",
      "source": [
        "3. INISIALISASI GEN\n",
        "\n",
        "> Agar bisa mendapatkan output, kita harus terlebih dahulu inisialisasi variabel generasi untuk melacak berapa banyak keturunan yang dibutuhkan agar algoritma bisa optimal dan variabel populasi untuk emmetakan orang yang ada di populasi. Kita juga membuat variabel generasi untuk melakukan eksport data ke CSV.\n",
        "\n",
        "> Setelah itu kita bisa membuat program untuk membuat gen pertama.\n",
        "\n",
        "\n",
        "\n",
        "\n",
        "\n"
      ],
      "metadata": {
        "id": "KyVEk5m-F_J_"
      }
    },
    {
      "cell_type": "code",
      "source": [
        "# menginisiasi gen\n",
        "generasi = 1\n",
        "ditemukan = False\n",
        "populasi = []\n",
        "data_generasi = []\n",
        "\n",
        "# Membuat gen pertama secara acak\n",
        "def buat_gen(length):\n",
        "    gen = []\n",
        "    for _ in range(length):\n",
        "        gen.append(random.choice(GEN))\n",
        "    return gen\n"
      ],
      "metadata": {
        "id": "6KlzefZpG5Ih"
      },
      "execution_count": null,
      "outputs": []
    },
    {
      "cell_type": "markdown",
      "source": [
        "4. Perhitungan Fitness\n",
        "> Tahap ini berguna untuk menghitung kesalahan yang ada di generasi terbaik populasi. Program akan berhenti jika kesalahan mencapai 0.\n",
        "\n"
      ],
      "metadata": {
        "id": "4Qav4eLuHHzI"
      }
    },
    {
      "cell_type": "code",
      "source": [
        "def hitung_kesalahan(chromosome):\n",
        "    kesalahan = 0\n",
        "    fitness = 30\n",
        "    for gs, gt in zip(chromosome, TARGET):\n",
        "        if gs != gt:\n",
        "            kesalahan += 1\n",
        "            fitness -= 1\n",
        "    return kesalahan, fitness"
      ],
      "metadata": {
        "id": "q0jYrXqCKNx2"
      },
      "execution_count": null,
      "outputs": []
    },
    {
      "cell_type": "markdown",
      "source": [
        "5. PRE-SELEKSI\n",
        "> Tahap ini dilakukan untuk memilih generasi awal yang memiliki fitness terbaik dan akan diikutkan tahap seleksi berikutnya.\n",
        "\n"
      ],
      "metadata": {
        "id": "xJwTxd-xKXpW"
      }
    },
    {
      "cell_type": "code",
      "source": [
        "generasi_terpilih = populasi[:int(0.1 * UKURAN_POPULASI)]\n",
        "    for _ in range(int(0.9 * UKURAN_POPULASI)):\n",
        "        induk1 = random.choice(populasi[:300])\n",
        "        induk2 = random.choice(populasi[:300])\n",
        "        anak = Seleksi(induk1, induk2)\n",
        "        generasi_terpilih.append(anak)"
      ],
      "metadata": {
        "id": "IzSYrYBSLs1h"
      },
      "execution_count": null,
      "outputs": []
    },
    {
      "cell_type": "markdown",
      "source": [
        "6. SELEKSI, CROSSOVER, DAN MUTASI.\n",
        "\n",
        "> Seleksi merupakan proses pemilihan untuk mendapatkan calon induk yang baik.\n",
        "\n",
        "> Crossover merupakan operator yang melibatkan dua induk untuk menghasilkan keturunan yang baru.\n",
        "\n",
        "> Mutasi gen merupakan operator yang menukar nilai gen dengan nilai inversinya.\n",
        "\n",
        "\n",
        "\n"
      ],
      "metadata": {
        "id": "wEZHv6kRMH4m"
      }
    },
    {
      "cell_type": "code",
      "source": [
        " populasi = generasi_terpilih\n",
        "    kesalahan_terkecil, fitness_terbaik = hitung_kesalahan(populasi[0])\n",
        "    individu_terbaik = ''.join(populasi[0])\n",
        "    print(f\"Generasi: {generasi}\\thasil: {individu_terbaik}\\tkesalahan: {kesalahan_terkecil}\\tFitness: {fitness_terbaik}\")\n",
        "    generasi += 1\n",
        "    data_generasi.append({\n",
        "        \"input \": GEN,\n",
        "        \"Generasi\": generasi,\n",
        "        \"Hasil\": individu_terbaik,\n",
        "        \"Kesalahan\": kesalahan_terkecil,\n",
        "        \"Fitness\": fitness_terbaik\n",
        "    })\n",
        "\n",
        "kesalahan_terkecil, fitness_terbaik = hitung_kesalahan(populasi[0])\n",
        "individu_terbaik = ''.join(populasi[0])"
      ],
      "metadata": {
        "id": "dULA_-8tM7Al"
      },
      "execution_count": null,
      "outputs": []
    },
    {
      "cell_type": "markdown",
      "source": [
        "7. OUTPUT DAN KONVERSI DATA"
      ],
      "metadata": {
        "id": "gDl_NkfLNT0d"
      }
    },
    {
      "cell_type": "code",
      "source": [
        "print(f\"Generasi: {generasi}\\thasil: {individu_terbaik}\\tkesalahan: {kesalahan_terkecil}\\tFitness: {fitness_terbaik}\")\n",
        "data_generasi.append({\n",
        "  \"Generasi\": generasi,\n",
        "  \"Hasil\": individu_terbaik,\n",
        "  \"Kesalahan\": kesalahan_terkecil,\n",
        "  \"Fitness\": fitness_terbaik\n",
        "  })\n",
        "\n",
        "\n",
        "# Membuat data untuk diconvert ke csv #\n",
        "df = pandas.DataFrame(data_generasi)\n",
        "df.to_csv('datahasil_optimasi.csv', index=False)"
      ],
      "metadata": {
        "id": "M6FRADVuNW8P"
      },
      "execution_count": null,
      "outputs": []
    }
  ]
}